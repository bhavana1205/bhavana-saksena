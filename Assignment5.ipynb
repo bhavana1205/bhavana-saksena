{
  "nbformat": 4,
  "nbformat_minor": 0,
  "metadata": {
    "colab": {
      "provenance": [],
      "include_colab_link": true
    },
    "kernelspec": {
      "name": "python3",
      "display_name": "Python 3"
    },
    "language_info": {
      "name": "python"
    }
  },
  "cells": [
    {
      "cell_type": "markdown",
      "metadata": {
        "id": "view-in-github",
        "colab_type": "text"
      },
      "source": [
        "<a href=\"https://colab.research.google.com/github/bhavana1205/bhavana-saksena/blob/main/Assignment5.ipynb\" target=\"_parent\"><img src=\"https://colab.research.google.com/assets/colab-badge.svg\" alt=\"Open In Colab\"/></a>"
      ]
    },
    {
      "cell_type": "code",
      "execution_count": null,
      "metadata": {
        "colab": {
          "base_uri": "https://localhost:8080/"
        },
        "id": "TIR8dh5OoDaE",
        "outputId": "429b0767-97d7-49d3-d2a2-b85fc9bb4670"
      },
      "outputs": [
        {
          "output_type": "stream",
          "name": "stdout",
          "text": [
            "Enter a str: find me if you can\n",
            "find 4\n"
          ]
        }
      ],
      "source": [
        "str=input(\"Enter a str: \")\n",
        "s=str.split()\n",
        "max=0\n",
        "for i in s:\n",
        "  if len(i)>max:\n",
        "    max=len(i)\n",
        "    word=i\n",
        "print(\"{} {}\".format(word,max))\n",
        "#question 1"
      ]
    },
    {
      "cell_type": "code",
      "source": [
        "string=input(\"Enter a string: \")\n",
        "size=len(string)\n",
        "if size%2==0:\n",
        "  half=size//2\n",
        "  if string[0:half]==string[half:] and string==string[::-1]:\n",
        "    print(\"The entered string is symmetrical and palindrome\")\n",
        "  else:\n",
        "    print(\"The entered string is symmetrical but not palindrome\")\n",
        "# question 2"
      ],
      "metadata": {
        "colab": {
          "base_uri": "https://localhost:8080/"
        },
        "id": "nLITax21mHPG",
        "outputId": "4ddff163-92ce-40d6-908d-11296cf4753d"
      },
      "execution_count": null,
      "outputs": [
        {
          "output_type": "stream",
          "name": "stdout",
          "text": [
            "Enter a string: khokho\n",
            "The entered string is symmetrical but not palindrome\n"
          ]
        }
      ]
    },
    {
      "cell_type": "code",
      "source": [
        "str=input(\"Enter a hyphen-separated string\")\n",
        "word=str.split('-')\n",
        "word.sort()\n",
        "print(\"Sorted list is: \")\n",
        "print('-'.join(word))\n",
        "# question 4"
      ],
      "metadata": {
        "id": "tJgYVYSIRW2W",
        "colab": {
          "base_uri": "https://localhost:8080/"
        },
        "outputId": "86e1e49b-f34f-4724-daff-ba59f16aefc2"
      },
      "execution_count": null,
      "outputs": [
        {
          "output_type": "stream",
          "name": "stdout",
          "text": [
            "Enter a hyphen-separated stringgreen-red-yellow-black-white \n",
            "Sorted list is: \n",
            "black-green-red-white -yellow\n"
          ]
        }
      ]
    },
    {
      "cell_type": "code",
      "source": [
        "def is_prime(n):\n",
        "  for i in range(2,n):\n",
        "    if n%i==0:\n",
        "      return False\n",
        "  return True\n",
        "def generate_twins(start,end):\n",
        "   for i in range(start,end):\n",
        "     j=i+2\n",
        "     if is_prime(i) and is_prime(j):\n",
        "       print(\"{:d} and {:d}\".format(i,j))\n",
        "generate_twins(2,20)\n",
        "# question 5"
      ],
      "metadata": {
        "colab": {
          "base_uri": "https://localhost:8080/"
        },
        "id": "261cAjZMSkXx",
        "outputId": "0821dfd9-9084-412d-a589-e44c9d1e95a0"
      },
      "execution_count": null,
      "outputs": [
        {
          "output_type": "stream",
          "name": "stdout",
          "text": [
            "3 and 5\n",
            "5 and 7\n",
            "11 and 13\n",
            "17 and 19\n"
          ]
        }
      ]
    },
    {
      "cell_type": "code",
      "source": [
        "def fibonacci_numbers(num):\n",
        "  if num==0:\n",
        "    return 0\n",
        "  elif num==1:\n",
        "    return 1\n",
        "  else:\n",
        "    return fibonacci_numbers(num-2)+fibonacci_numbers(num-1)\n",
        "n=int(input(\"Enter the range:\"))\n",
        "for i in range(0,n):\n",
        "   print(fibonacci_numbers(i),end=\" \")\n",
        "  # question 7"
      ],
      "metadata": {
        "colab": {
          "base_uri": "https://localhost:8080/"
        },
        "id": "nRbItFzzURUV",
        "outputId": "11f1ff22-2617-4b06-86f5-eb3fbe11add4"
      },
      "execution_count": null,
      "outputs": [
        {
          "output_type": "stream",
          "name": "stdout",
          "text": [
            "Enter the range:15\n",
            "0 1 1 2 3 5 8 13 21 34 55 89 144 233 377 "
          ]
        }
      ]
    },
    {
      "cell_type": "code",
      "source": [
        "n=int(input(\"Enter a number\"))\n",
        "even_count=0\n",
        "odd_count=0\n",
        "while (n>0):\n",
        "        rem=n%10  \n",
        "        if(rem%2==0):\n",
        "          even_count+=1\n",
        "        else:\n",
        "          odd_count+=1\n",
        "        n=int(n/10)\n",
        "print(\"Even count: \", even_count)\n",
        "print(\"\\nOdd count: \", odd_count)\n",
        "# question 8"
      ],
      "metadata": {
        "id": "P1OX69LNWtOR",
        "colab": {
          "base_uri": "https://localhost:8080/"
        },
        "outputId": "a9676679-36e9-4474-d223-c4666b91a0b4"
      },
      "execution_count": null,
      "outputs": [
        {
          "output_type": "stream",
          "name": "stdout",
          "text": [
            "Enter a number547863\n",
            "Even count:  3\n",
            "\n",
            "Odd count:  3\n"
          ]
        }
      ]
    },
    {
      "cell_type": "code",
      "source": [
        "num_sub=int(input(\"enter number of subjects: \"))\n",
        "subjects=[]\n",
        "students=[]\n",
        "marks=[]\n",
        "for i in range(num_sub):\n",
        "    subject = input(\"enter subject {i+1}: \")\n",
        "    subjects.append(subject)\n",
        "    student = input(\"enter student name: \")\n",
        "    students.append(student)\n",
        "    mark = float(input(f\"enter marks scored by {student} in {subject}: \"))\n",
        "    marks.append(mark)\n",
        "print(\"subjects{}\\n\".format(subjects))\n",
        "print(\"students{}\\n\".format(students))\n",
        "print(\"Marks{}\\n\".format(marks))\n",
        "final_list = []\n",
        "for i in range(num_sub):\n",
        "    final_dictionaries = {}\n",
        "    final_dictionaries[\"subject\"] = subjects[i]\n",
        "    final_dictionaries[\"student\"] = students[i]\n",
        "    final_dictionaries[\"mark\"] = marks[i]\n",
        "    final_list.append(final_dictionaries)\n",
        "print(final_list)\n",
        "#question dif 8"
      ],
      "metadata": {
        "colab": {
          "base_uri": "https://localhost:8080/"
        },
        "id": "o012XVgskd3e",
        "outputId": "4b6629fb-17d2-423f-acef-7ab6d3fafaed"
      },
      "execution_count": null,
      "outputs": [
        {
          "output_type": "stream",
          "name": "stdout",
          "text": [
            "enter number of subjects: 4\n",
            "enter subject {i+1}: Maths\n",
            "enter student name: Dhurv\n",
            "enter marks scored by Dhurv in Maths: 100\n",
            "enter subject {i+1}: Physics \n",
            "enter student name: Ganapathi \n",
            "enter marks scored by Ganapathi  in Physics : 98\n",
            "enter subject {i+1}: Science \n",
            "enter student name: Sundari\n",
            "enter marks scored by Sundari in Science : 99\n",
            "enter subject {i+1}: English\n",
            "enter student name: Srikanth\n",
            "enter marks scored by Srikanth in English: 92\n",
            "subjects['Maths', 'Physics ', 'Science ', 'English']\n",
            "\n",
            "students['Dhurv', 'Ganapathi ', 'Sundari', 'Srikanth']\n",
            "\n",
            "Marks[100.0, 98.0, 99.0, 92.0]\n",
            "\n",
            "[{'subject': 'Maths', 'student': 'Dhurv', 'mark': 100.0}, {'subject': 'Physics ', 'student': 'Ganapathi ', 'mark': 98.0}, {'subject': 'Science ', 'student': 'Sundari', 'mark': 99.0}, {'subject': 'English', 'student': 'Srikanth', 'mark': 92.0}]\n"
          ]
        }
      ]
    },
    {
      "cell_type": "markdown",
      "source": [],
      "metadata": {
        "id": "cHkxdStqhc-Y"
      }
    },
    {
      "cell_type": "code",
      "source": [
        "num=int(input(\"Enter the number:\"))\n",
        "sum=0\n",
        "for i in range(1,num):\n",
        "  if num%i==0:\n",
        "    sum+=1\n",
        "if num==sum:\n",
        "  print(\"it is a perfect number\")\n",
        "else:\n",
        "  print(\"it is not a perfect number\")\n",
        "# question 9"
      ],
      "metadata": {
        "colab": {
          "base_uri": "https://localhost:8080/"
        },
        "id": "Z3oBZ6ThkHw0",
        "outputId": "1b0dbbb0-dd9c-4c42-b477-72b9416c5098"
      },
      "execution_count": null,
      "outputs": [
        {
          "output_type": "stream",
          "name": "stdout",
          "text": [
            "Enter the number:15\n",
            "it is not a perfect number\n"
          ]
        }
      ]
    },
    {
      "cell_type": "code",
      "source": [
        "str=input(\"Enter a string:\")\n",
        "s=str.split()\n",
        "for i in s:\n",
        "  if len(i)%2==0:\n",
        "    word=i\n",
        "    print(\"{}\".format(word))\n",
        "# question 10"
      ],
      "metadata": {
        "colab": {
          "base_uri": "https://localhost:8080/"
        },
        "id": "JGtrxUmclgtu",
        "outputId": "54004ff1-f638-4247-b910-769618751cf6"
      },
      "execution_count": null,
      "outputs": [
        {
          "output_type": "stream",
          "name": "stdout",
          "text": [
            "Enter a string:print even length string words in a  string\n",
            "even\n",
            "length\n",
            "string\n",
            "in\n",
            "string\n"
          ]
        }
      ]
    },
    {
      "cell_type": "code",
      "source": [
        "string=input()\n",
        "string=string.replace(\" \",\"\")\n",
        "list1=list(string.split(','))\n",
        "result=\",\".join(list1)\n",
        "sum=0\n",
        "for i in list1:\n",
        "  sum=sum+float(i)\n",
        "print(\"Numbers in this input are:\",result)\n",
        "print(\"you entered:\",result,\"sum=\",(int(sum)))\n",
        "# question dif 2"
      ],
      "metadata": {
        "id": "YFwPZ2cYcA4V",
        "colab": {
          "base_uri": "https://localhost:8080/"
        },
        "outputId": "33982de9-0691-4245-aec9-d9d718ddce6b"
      },
      "execution_count": null,
      "outputs": [
        {
          "output_type": "stream",
          "name": "stdout",
          "text": [
            "285.6,-36,0.15,154\n",
            "Numbers in this input are: 285.6,-36,0.15,154\n",
            "you entered: 285.6,-36,0.15,154 sum= 403\n"
          ]
        }
      ]
    },
    {
      "cell_type": "code",
      "source": [
        "str=input(\"enter the string\")\n",
        "doubled_string=''\n",
        "for char in str:\n",
        "  doubled_string+=char*2\n",
        "print(doubled_string)\n",
        "#question 6"
      ],
      "metadata": {
        "colab": {
          "base_uri": "https://localhost:8080/"
        },
        "id": "DabQ3brJhekV",
        "outputId": "e368c942-2036-4fc3-8d73-aea19a4401e5"
      },
      "execution_count": null,
      "outputs": [
        {
          "output_type": "stream",
          "name": "stdout",
          "text": [
            "enter the string123a\n",
            "112233aa\n"
          ]
        }
      ]
    },
    {
      "cell_type": "code",
      "source": [
        "n = int(input(\"Please enter a number: \"))\n",
        "product = 1\n",
        "count = 0\n",
        "while n > 9:\n",
        "    while n > 0:\n",
        "        product *= n % 10\n",
        "        n = n // 10\n",
        "    count += 1\n",
        "    n = product \n",
        "    product = 1\n",
        "print(\"Multiplicative Digital Root:\", n)\n",
        "print(\"Multiplicative Persistence:\", count)\n",
        "#question dif 3"
      ],
      "metadata": {
        "colab": {
          "base_uri": "https://localhost:8080/"
        },
        "id": "W0MAvUpih59d",
        "outputId": "a7713b72-84d1-4279-fc39-0c98deb98013"
      },
      "execution_count": null,
      "outputs": [
        {
          "output_type": "stream",
          "name": "stdout",
          "text": [
            "Please enter a number: 568\n",
            "Multiplicative Digital Root: 0\n",
            "Multiplicative Persistence: 2\n"
          ]
        }
      ]
    },
    {
      "cell_type": "code",
      "source": [
        "n=int(input(\"enter the length of side of square : \"))\n",
        "rad=float(input(\"enter radius of circle : \"))\n",
        "r=round(rad,2)\n",
        "s=input(\"enter shape CIR or SQR : \")\n",
        "dia=(pow(2,1/2)*n)-2*((pow(2,1/2)*r)+r)\n",
        "if s==\"CIR\" :\n",
        "  area=round(3.414*dia,1)\n",
        "  print(area)\n",
        "else :\n",
        "  area=round((dia*dia)/2,1)\n",
        "  print(area)\n",
        "#question dif 4"
      ],
      "metadata": {
        "colab": {
          "base_uri": "https://localhost:8080/"
        },
        "id": "9-rXt8XriXQN",
        "outputId": "3283d7b5-d50b-4a17-d304-ecf2944992eb"
      },
      "execution_count": null,
      "outputs": [
        {
          "output_type": "stream",
          "name": "stdout",
          "text": [
            "enter the length of side of square : 4\n",
            "enter radius of circle : 6\n",
            "enter shape CIR or SQR : Circle \n",
            "271.8\n"
          ]
        }
      ]
    },
    {
      "cell_type": "code",
      "source": [
        "while True:\n",
        "  cards = list(map(int, input(\"Enter the card numbers: \").split()))\n",
        "  if len(cards) != 9:\n",
        "    print(\"Please enter 9 card numbers\")\n",
        "    continue\n",
        "  hits = []\n",
        "  for i in range(len(cards)):\n",
        "    if cards[i] == (i+1):\n",
        "      hits.append(cards[i])\n",
        "  print(\"Input: {}\".format(cards))\n",
        "  print(\"Hits: {}\".format(hits))\n",
        "  break\n",
        "#question dif 5"
      ],
      "metadata": {
        "colab": {
          "base_uri": "https://localhost:8080/"
        },
        "id": "tpQqYnq8iO-f",
        "outputId": "5bd183aa-a24a-4dc7-9cd4-80a5df8c4d64"
      },
      "execution_count": null,
      "outputs": [
        {
          "output_type": "stream",
          "name": "stdout",
          "text": [
            "Enter the card numbers: 5\n",
            "Please enter 9 card numbers\n",
            "Enter the card numbers: 7\n",
            "Please enter 9 card numbers\n",
            "Enter the card numbers: 9 7 3 1 2 4 5 \n",
            "Please enter 9 card numbers\n",
            "Enter the card numbers: 9 7 3 1 2 4 5 6 8\n",
            "Input: [9, 7, 3, 1, 2, 4, 5, 6, 8]\n",
            "Hits: [3]\n"
          ]
        }
      ]
    },
    {
      "cell_type": "code",
      "source": [
        "def area(a,b,c,d,e,f) :\n",
        "  return abs((a*(d-f)+c*(f-b)+e*(b-d))/2.0)\n",
        "n=int(input(\"enter n : \"))\n",
        "x1,y1=int(input(\"enter x1: \")),int(input(\"enter y1: \"))\n",
        "x2,y2=int(input(\"enter x2: \")),int(input(\"enter y2: \"))\n",
        "x3,y3=int(input(\"enter x3: \")),int(input(\"enter y3: \"))\n",
        "a=area(x1,y1,x2,y2,x3,y3)\n",
        "for i in range(n):\n",
        "  x,y=int(input(\"\\nenter x: \")),int(input(\"enter y: \"))\n",
        "  a1=area(x,y,x1,y1,x2,y2)\n",
        "  a2=area(x,y,x2,y2,x3,y3)\n",
        "  a3=area(x,y,x3,y3,x1,y1)\n",
        "  if(a==(a1+a2+a3)) :\n",
        "    print(\"inside\\n\")\n",
        "  else :\n",
        "    print(\"outside\\n\")\n",
        "#question dif 6"
      ],
      "metadata": {
        "colab": {
          "base_uri": "https://localhost:8080/"
        },
        "id": "18kk16wCiKfu",
        "outputId": "b2cf514f-da49-4348-b1fc-7cfe447a4031"
      },
      "execution_count": null,
      "outputs": [
        {
          "output_type": "stream",
          "name": "stdout",
          "text": [
            "enter n : 2\n",
            "enter x1: 0\n",
            "enter y1: 0\n",
            "enter x2: 0\n",
            "enter y2: 5\n",
            "enter x3: 5\n",
            "enter y3: 0\n",
            "\n",
            "enter x: 1\n",
            "enter y: 1\n",
            "inside\n",
            "\n",
            "\n",
            "enter x: 6\n",
            "enter y: 8\n",
            "outside\n",
            "\n"
          ]
        }
      ]
    },
    {
      "cell_type": "code",
      "source": [
        "nums = [2, 6, 8, 9, 8, 11, 256, 8]\n",
        "val = 8\n",
        "for i in range(len(nums)):\n",
        "    if nums[i] == val:\n",
        "        nums[i] = '+'\n",
        "print(len(nums))\n",
        "print(nums)\n",
        "#question dif 10"
      ],
      "metadata": {
        "colab": {
          "base_uri": "https://localhost:8080/"
        },
        "id": "FIu9ayW9jdYN",
        "outputId": "61808054-cee4-41d1-ca5c-59aab73ea57f"
      },
      "execution_count": null,
      "outputs": [
        {
          "output_type": "stream",
          "name": "stdout",
          "text": [
            "8\n",
            "[2, 6, '+', 9, '+', 11, 256, '+']\n"
          ]
        }
      ]
    },
    {
      "cell_type": "code",
      "source": [
        "def plus_one(digits, n):\n",
        "    digits.reverse()\n",
        "    carry = 0\n",
        "    \n",
        "    for i in range(n):\n",
        "        if(i == 0):\n",
        "            digits[i] += (1 + carry)\n",
        "        elif(carry != 0):\n",
        "            digits[i] += carry\n",
        "        carry = digits[i]//10\n",
        "        if(carry != 0):\n",
        "            digits[i] = digits[i] % 10\n",
        "    if(carry != 0):\n",
        "        digits.append(carry)\n",
        "    digits.reverse()\n",
        "digits = [1,3,6]\n",
        "n = len(digits)\n",
        "plus_one(digits, n)\n",
        "\n",
        "for i in digits:\n",
        "    print(i, end =\" \")\n",
        "#question dif 11"
      ],
      "metadata": {
        "colab": {
          "base_uri": "https://localhost:8080/"
        },
        "id": "80YAzImzjbrV",
        "outputId": "16471107-ba56-40f8-cd23-04d69f80c035"
      },
      "execution_count": null,
      "outputs": [
        {
          "output_type": "stream",
          "name": "stdout",
          "text": [
            "1 3 7 "
          ]
        }
      ]
    },
    {
      "cell_type": "code",
      "source": [
        "from math import factorial\n",
        "a=int(input())\n",
        "for i in range(a):\n",
        "  for j in range(a-i-1):\n",
        "    print(end=' ')\n",
        "  for k in range(0,i+1):\n",
        "    print(factorial(i)//(factorial(k)*factorial(i-k)),end=' ')\n",
        "  print()\n",
        "#question dif 1"
      ],
      "metadata": {
        "colab": {
          "base_uri": "https://localhost:8080/"
        },
        "id": "PiG12diRjPxy",
        "outputId": "bc8f848b-b094-4a56-d814-8b4fe97a23f3"
      },
      "execution_count": null,
      "outputs": [
        {
          "output_type": "stream",
          "name": "stdout",
          "text": [
            "5\n",
            "    1 \n",
            "   1 1 \n",
            "  1 2 1 \n",
            " 1 3 3 1 \n",
            "1 4 6 4 1 \n"
          ]
        }
      ]
    },
    {
      "cell_type": "code",
      "source": [],
      "metadata": {
        "id": "2xVcoYYYpnh5"
      },
      "execution_count": null,
      "outputs": []
    }
  ]
}
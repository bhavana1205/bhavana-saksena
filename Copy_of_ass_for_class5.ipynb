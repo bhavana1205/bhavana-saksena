{
  "nbformat": 4,
  "nbformat_minor": 0,
  "metadata": {
    "colab": {
      "provenance": [],
      "authorship_tag": "ABX9TyOFPqbPpeBaD8e7R8sN3w1V",
      "include_colab_link": true
    },
    "kernelspec": {
      "name": "python3",
      "display_name": "Python 3"
    },
    "language_info": {
      "name": "python"
    }
  },
  "cells": [
    {
      "cell_type": "markdown",
      "metadata": {
        "id": "view-in-github",
        "colab_type": "text"
      },
      "source": [
        "<a href=\"https://colab.research.google.com/github/bhavana1205/bhavana-saksena/blob/main/Copy_of_ass_for_class5.ipynb\" target=\"_parent\"><img src=\"https://colab.research.google.com/assets/colab-badge.svg\" alt=\"Open In Colab\"/></a>"
      ]
    },
    {
      "cell_type": "code",
      "execution_count": null,
      "metadata": {
        "id": "rbsy-1snW7Q9"
      },
      "outputs": [],
      "source": []
    },
    {
      "cell_type": "code",
      "source": [],
      "metadata": {
        "id": "epth4gCrpgh2"
      },
      "execution_count": null,
      "outputs": []
    },
    {
      "cell_type": "code",
      "source": [],
      "metadata": {
        "id": "odY4xnlJpgvN"
      },
      "execution_count": null,
      "outputs": []
    },
    {
      "cell_type": "markdown",
      "source": [
        "1.create a class person with instance attributes name and age.add a class attribute count that keeps track of the number of person object created.create multiple instances of person and print the value of the count attribute.\n",
        "\n",
        "\n",
        "2.define a class bankaccount with instance attribute account_number and balance.add a clas attribute intrest_rate that is set to 0.02.add methods deposit and withdraw to modify the balance .add a class method get_intrest \n",
        "\n",
        "\n",
        "3.create a class triangle with instance attribute side1,side2,side3.add a method is_equilateral that returns true if tha triangle is eq(all sides are equal)and false otherwise.create instances of triangle and test the is_eq method"
      ],
      "metadata": {
        "id": "q6xXDQXwW_4E"
      }
    },
    {
      "cell_type": "markdown",
      "source": [],
      "metadata": {
        "id": "iAJmOjKAXfeE"
      }
    },
    {
      "cell_type": "code",
      "source": [
        "#1.create a class person with instance attributes name and age.add a class attribute count that keeps track of the number of person object created.create multiple instances of person and print the value of the count attribute.\n",
        "\n"
      ],
      "metadata": {
        "id": "D0Du58lmXgQM"
      },
      "execution_count": null,
      "outputs": []
    },
    {
      "cell_type": "code",
      "source": [
        "class Counter:\n",
        "    def __init__(self):\n",
        "        self.value = 0\n",
        "\n",
        "    def increment(self):\n",
        "        self.value += 1\n",
        "\n",
        "    def reset(self):\n",
        "        self.value = 0"
      ],
      "metadata": {
        "id": "JZzZc52TXl4a"
      },
      "execution_count": null,
      "outputs": []
    },
    {
      "cell_type": "code",
      "source": [
        "#class calculator with basic arithmetic operations\n",
        "class Calculator:\n",
        "    def add(self, a, b):\n",
        "        return a + b\n",
        "\n",
        "    def subtract(self, a, b):\n",
        "        return a - b\n",
        "\n",
        "    def multiply(self, a, b):\n",
        "        return a * b\n",
        "\n",
        "    def divide(self, a, b):\n",
        "        if b != 0:\n",
        "            return a / b\n",
        "        else:\n",
        "            print(\"Error: Division by zero!\")"
      ],
      "metadata": {
        "id": "mjKfvCGVpOAl"
      },
      "execution_count": null,
      "outputs": []
    },
    {
      "cell_type": "code",
      "source": [
        "#class person\n",
        "class Person:\n",
        "    count = 0\n",
        "\n",
        "    def __init__(self, name, age):\n",
        "        self.name = name\n",
        "        self.age = age\n",
        "        Person.count += 1\n",
        "# Create instances of the Person class\n",
        "person1 = Person(\"John\", 25)\n",
        "person2 = Person(\"devi\", 30)\n",
        "person3 = Person(\"seetha\", 35)\n",
        "\n",
        "print(Person.count)"
      ],
      "metadata": {
        "colab": {
          "base_uri": "https://localhost:8080/"
        },
        "id": "LOcYQ5zSpal0",
        "outputId": "6dac01c1-93ec-4eea-813b-985a466e979a"
      },
      "execution_count": null,
      "outputs": [
        {
          "output_type": "stream",
          "name": "stdout",
          "text": [
            "3\n"
          ]
        }
      ]
    },
    {
      "cell_type": "code",
      "source": [
        "#class bank account\n",
        "class BankAccount:\n",
        "    interest_rate = 0.02\n",
        "\n",
        "    def __init__(self, account_number, balance):\n",
        "        self.account_number = account_number\n",
        "        self.balance = balance\n",
        "\n",
        "    def deposit(self, amount):\n",
        "        self.balance += amount\n",
        "\n",
        "    def withdraw(self, amount):\n",
        "        if amount <= self.balance:\n",
        "            self.balance -= amount\n",
        "        else:\n",
        "            print(\"Insufficient funds!\")\n",
        "\n",
        "    @classmethod\n",
        "    def get_interest_rate(cls):\n",
        "        return cls.interest_rate\n",
        "# An instance of the BankAccount class\n",
        "account = BankAccount(\"123456789\", 1000)\n",
        "\n",
        "# Deposit and withdraw\n",
        "account.deposit(500)\n",
        "account.withdraw(200)\n",
        "\n",
        "# Printing the current balance\n",
        "print(account.balance) \n",
        "\n",
        "# Access the interest_rate class attribute\n",
        "interest_rate = BankAccount.get_interest_rate()\n",
        "print(interest_rate)"
      ],
      "metadata": {
        "colab": {
          "base_uri": "https://localhost:8080/"
        },
        "id": "50rArP9Qpbdp",
        "outputId": "92d8cc72-0a3a-483a-e8bf-65b6d1172d4a"
      },
      "execution_count": null,
      "outputs": [
        {
          "output_type": "stream",
          "name": "stdout",
          "text": [
            "1300\n",
            "0.02\n"
          ]
        }
      ]
    },
    {
      "cell_type": "code",
      "source": [
        "#class triangle\n",
        "class Triangle:\n",
        "    def __init__(self, side1, side2, side3):\n",
        "        self.side1 = side1\n",
        "        self.side2 = side2\n",
        "        self.side3 = side3\n",
        "\n",
        "    def is_equilateral(self):\n",
        "        return self.side1 == self.side2 == self.side3\n",
        "# Creating an instance of the Triangle class\n",
        "triangle = Triangle(4, 4, 4)\n",
        "print(triangle.is_equilateral()) \n",
        "triangle2 = Triangle(3, 4, 5)\n",
        "print(triangle2.is_equilateral())"
      ],
      "metadata": {
        "colab": {
          "base_uri": "https://localhost:8080/"
        },
        "id": "JguAxDW6pbwz",
        "outputId": "0193be7a-de79-4d43-e142-a769280a8f7d"
      },
      "execution_count": null,
      "outputs": [
        {
          "output_type": "stream",
          "name": "stdout",
          "text": [
            "True\n",
            "False\n"
          ]
        }
      ]
    },
    {
      "cell_type": "code",
      "source": [
        "class Rectangle:\n",
        "    def __init__(self, width, height):\n",
        "        self.width = width\n",
        "        self.height = height\n",
        "\n",
        "    def area(self):\n",
        "        return self.width * self.height\n",
        "\n",
        "    def perimeter(self):\n",
        "        return 2 * (self.width + self.height)\n",
        "\n",
        "\n",
        "class Square(Rectangle):\n",
        "    def __init__(self, side):\n",
        "        super().__init__(side, side)\n",
        "\n",
        "\n",
        "# Create an instance of Rectangle and calculate its area and perimeter\n",
        "rectangle = Rectangle(4, 5)\n",
        "print(\"Rectangle Area:\", rectangle.area())  # Output: 20\n",
        "print(\"Rectangle Perimeter:\", rectangle.perimeter())  # Output: 18\n",
        "\n",
        "# Create an instance of Square and calculate its area and perimeter\n",
        "square = Square(4)\n",
        "print(\"Square Area:\", square.area())  # Output: 16\n",
        "print(\"Square Perimeter:\", square.perimeter())  # Output: 16"
      ],
      "metadata": {
        "colab": {
          "base_uri": "https://localhost:8080/"
        },
        "id": "mjST1FpCpb4-",
        "outputId": "1d7f168a-20a2-4fcc-b37c-2b8c806d04d9"
      },
      "execution_count": null,
      "outputs": [
        {
          "output_type": "stream",
          "name": "stdout",
          "text": [
            "Rectangle Area: 20\n",
            "Rectangle Perimeter: 18\n",
            "Square Area: 16\n",
            "Square Perimeter: 16\n"
          ]
        }
      ]
    },
    {
      "cell_type": "code",
      "source": [
        "class Employee:\n",
        "    def __init__(self, name, salary):\n",
        "        self.name = name\n",
        "        self.salary = salary\n",
        "\n",
        "    def calculate_bonus(self):\n",
        "        return 0.1 * self.salary\n",
        "\n",
        "\n",
        "class Manager(Employee):\n",
        "    def calculate_bonus(self):\n",
        "        return 0.15 * self.salary\n",
        "\n",
        "\n",
        "class Developer(Employee):\n",
        "    def calculate_bonus(self):\n",
        "        return 0.12 * self.salary\n",
        "\n",
        "\n",
        "# Create an instance of Employee and calculate the bonus\n",
        "employee = Employee(\"John\", 5000)\n",
        "print(\"Employee Bonus:\", employee.calculate_bonus())  # Output: 500.0\n",
        "\n",
        "# Create an instance of Manager and calculate the bonus\n",
        "manager = Manager(\"Alice\", 6000)\n",
        "print(\"Manager Bonus:\", manager.calculate_bonus())  # Output: 900.0\n",
        "\n",
        "# Create an instance of Developer and calculate the bonus\n",
        "developer = Developer(\"Bob\", 4000)\n",
        "print(\"Developer Bonus:\", developer.calculate_bonus())  # Output: 480.0"
      ],
      "metadata": {
        "colab": {
          "base_uri": "https://localhost:8080/"
        },
        "id": "uNs8zg6vpj2n",
        "outputId": "65dbbd9b-cb57-4a4c-b466-56f097d58cff"
      },
      "execution_count": null,
      "outputs": [
        {
          "output_type": "stream",
          "name": "stdout",
          "text": [
            "Employee Bonus: 500.0\n",
            "Manager Bonus: 900.0\n",
            "Developer Bonus: 480.0\n"
          ]
        }
      ]
    },
    {
      "cell_type": "code",
      "source": [
        "class Salesperson:\n",
        "    def __init__(self, name):\n",
        "        self.name = name\n",
        "        self.record = {}\n",
        "        self.value = 0.0\n",
        "\n",
        "    def get_name(self):\n",
        "        return self.name\n",
        "\n",
        "    def buy_pro(self, product_name, market_price, quantity):\n",
        "        if product_name in self.record:\n",
        "            self.record[product_name][0] = market_price\n",
        "            self.record[product_name][1] += quantity\n",
        "        else:\n",
        "            self.record[product_name] = [market_price, quantity]\n",
        "        self.value -= market_price * quantity\n",
        "\n",
        "    def sell_pro(self, product_name, market_price, quantity):\n",
        "        if product_name in self.record:\n",
        "            cost, stock = self.record[product_name]\n",
        "            if quantity <= stock:\n",
        "                self.record[product_name][1] -= quantity\n",
        "                self.value += market_price * quantity\n",
        "                if self.record[product_name][1] == 0:\n",
        "                    del self.record[product_name]\n",
        "            else:\n",
        "                print(\"Not enough stock!\")\n",
        "        else:\n",
        "            print(\"Product not found!\")\n",
        "\n",
        "    def get_record(self):\n",
        "        return self.record\n",
        "\n",
        "    def get_value(self):\n",
        "        return self.value\n",
        "\n",
        "\n",
        "# Create an instance of Salesperson\n",
        "salesperson = Salesperson(\"John\")\n",
        "\n",
        "# Get the name of the salesperson\n",
        "print(\"Salesperson Name:\", salesperson.get_name())  # Output: John\n",
        "\n",
        "# Buy products\n",
        "salesperson.buy_pro(\"Product A\", 10.0, 5)\n",
        "salesperson.buy_pro(\"Product B\", 15.0, 3)\n",
        "\n",
        "# Sell products\n",
        "salesperson.sell_pro(\"Product A\", 12.0, 2)\n",
        "salesperson.sell_pro(\"Product C\", 20.0, 4)  # Product not found!\n",
        "\n",
        "# Get the record and value\n",
        "print(\"Salesperson Record:\", salesperson.get_record())\n",
        "print(\"Salesperson Value:\", salesperson.get_value())"
      ],
      "metadata": {
        "colab": {
          "base_uri": "https://localhost:8080/"
        },
        "id": "gyovOkY9pkHl",
        "outputId": "9c2031aa-5468-445b-9862-3fa5f2ba500c"
      },
      "execution_count": null,
      "outputs": [
        {
          "output_type": "stream",
          "name": "stdout",
          "text": [
            "Salesperson Name: John\n",
            "Product not found!\n",
            "Salesperson Record: {'Product A': [10.0, 3], 'Product B': [15.0, 3]}\n",
            "Salesperson Value: -71.0\n"
          ]
        }
      ]
    },
    {
      "cell_type": "code",
      "source": [
        "import random\n",
        "\n",
        "class Card:\n",
        "    def __init__(self, suit, value):\n",
        "        self.suit = suit\n",
        "        self.value = value\n",
        "\n",
        "    def __str__(self):\n",
        "        return f\"{self.value} of {self.suit}\"\n",
        "\n",
        "class Deck:\n",
        "    def __init__(self):\n",
        "        self.cards = []\n",
        "        self.reset()\n",
        "\n",
        "    def reset(self):\n",
        "        suits = [\"Hearts\", \"Diamonds\", \"Clubs\", \"Spades\"]\n",
        "        values = [\"A\", \"2\", \"3\", \"4\", \"5\", \"6\", \"7\", \"8\", \"9\", \"10\", \"J\", \"Q\", \"K\"]\n",
        "\n",
        "        self.cards = [Card(suit, value) for suit in suits for value in values]\n",
        "\n",
        "    def deal(self):\n",
        "        if len(self.cards) == 0:\n",
        "            return None\n",
        "        else:\n",
        "            return self.cards.pop()\n",
        "\n",
        "    def shuffle(self):\n",
        "        random.shuffle(self.cards)\n",
        "\n",
        "# Usage example:\n",
        "deck = Deck()\n",
        "print(\"Deck created.\")\n",
        "print(\"Cards in the deck:\")\n",
        "for card in deck.cards:\n",
        "    print(card)\n",
        "\n",
        "print(\"\\nDealing cards:\")\n",
        "while True:\n",
        "    card = deck.deal()\n",
        "    if card is None:\n",
        "        break\n",
        "    print(f\"Dealt: {card}\")\n",
        "\n",
        "print(\"\\nShuffling deck...\")\n",
        "deck.shuffle()\n",
        "\n",
        "print(\"\\nCards in the deck after shuffling:\")\n",
        "for card in deck.cards:\n",
        "    print(card)"
      ],
      "metadata": {
        "colab": {
          "base_uri": "https://localhost:8080/"
        },
        "id": "KiBR3N4gq0Ab",
        "outputId": "ce249a21-89a6-4f0a-bf97-64eb4505160b"
      },
      "execution_count": null,
      "outputs": [
        {
          "output_type": "stream",
          "name": "stdout",
          "text": [
            "Deck created.\n",
            "Cards in the deck:\n",
            "A of Hearts\n",
            "2 of Hearts\n",
            "3 of Hearts\n",
            "4 of Hearts\n",
            "5 of Hearts\n",
            "6 of Hearts\n",
            "7 of Hearts\n",
            "8 of Hearts\n",
            "9 of Hearts\n",
            "10 of Hearts\n",
            "J of Hearts\n",
            "Q of Hearts\n",
            "K of Hearts\n",
            "A of Diamonds\n",
            "2 of Diamonds\n",
            "3 of Diamonds\n",
            "4 of Diamonds\n",
            "5 of Diamonds\n",
            "6 of Diamonds\n",
            "7 of Diamonds\n",
            "8 of Diamonds\n",
            "9 of Diamonds\n",
            "10 of Diamonds\n",
            "J of Diamonds\n",
            "Q of Diamonds\n",
            "K of Diamonds\n",
            "A of Clubs\n",
            "2 of Clubs\n",
            "3 of Clubs\n",
            "4 of Clubs\n",
            "5 of Clubs\n",
            "6 of Clubs\n",
            "7 of Clubs\n",
            "8 of Clubs\n",
            "9 of Clubs\n",
            "10 of Clubs\n",
            "J of Clubs\n",
            "Q of Clubs\n",
            "K of Clubs\n",
            "A of Spades\n",
            "2 of Spades\n",
            "3 of Spades\n",
            "4 of Spades\n",
            "5 of Spades\n",
            "6 of Spades\n",
            "7 of Spades\n",
            "8 of Spades\n",
            "9 of Spades\n",
            "10 of Spades\n",
            "J of Spades\n",
            "Q of Spades\n",
            "K of Spades\n",
            "\n",
            "Dealing cards:\n",
            "Dealt: K of Spades\n",
            "Dealt: Q of Spades\n",
            "Dealt: J of Spades\n",
            "Dealt: 10 of Spades\n",
            "Dealt: 9 of Spades\n",
            "Dealt: 8 of Spades\n",
            "Dealt: 7 of Spades\n",
            "Dealt: 6 of Spades\n",
            "Dealt: 5 of Spades\n",
            "Dealt: 4 of Spades\n",
            "Dealt: 3 of Spades\n",
            "Dealt: 2 of Spades\n",
            "Dealt: A of Spades\n",
            "Dealt: K of Clubs\n",
            "Dealt: Q of Clubs\n",
            "Dealt: J of Clubs\n",
            "Dealt: 10 of Clubs\n",
            "Dealt: 9 of Clubs\n",
            "Dealt: 8 of Clubs\n",
            "Dealt: 7 of Clubs\n",
            "Dealt: 6 of Clubs\n",
            "Dealt: 5 of Clubs\n",
            "Dealt: 4 of Clubs\n",
            "Dealt: 3 of Clubs\n",
            "Dealt: 2 of Clubs\n",
            "Dealt: A of Clubs\n",
            "Dealt: K of Diamonds\n",
            "Dealt: Q of Diamonds\n",
            "Dealt: J of Diamonds\n",
            "Dealt: 10 of Diamonds\n",
            "Dealt: 9 of Diamonds\n",
            "Dealt: 8 of Diamonds\n",
            "Dealt: 7 of Diamonds\n",
            "Dealt: 6 of Diamonds\n",
            "Dealt: 5 of Diamonds\n",
            "Dealt: 4 of Diamonds\n",
            "Dealt: 3 of Diamonds\n",
            "Dealt: 2 of Diamonds\n",
            "Dealt: A of Diamonds\n",
            "Dealt: K of Hearts\n",
            "Dealt: Q of Hearts\n",
            "Dealt: J of Hearts\n",
            "Dealt: 10 of Hearts\n",
            "Dealt: 9 of Hearts\n",
            "Dealt: 8 of Hearts\n",
            "Dealt: 7 of Hearts\n",
            "Dealt: 6 of Hearts\n",
            "Dealt: 5 of Hearts\n",
            "Dealt: 4 of Hearts\n",
            "Dealt: 3 of Hearts\n",
            "Dealt: 2 of Hearts\n",
            "Dealt: A of Hearts\n",
            "\n",
            "Shuffling deck...\n",
            "\n",
            "Cards in the deck after shuffling:\n"
          ]
        }
      ]
    },
    {
      "cell_type": "code",
      "source": [
        "class BankAccount:\n",
        "    def __init__(self, account_number, initial_balance):\n",
        "        self.account_number = account_number\n",
        "        self.balance = initial_balance\n",
        "\n",
        "    def deposit(self, amount):\n",
        "        if amount > 0:\n",
        "            self.balance += amount\n",
        "            print(f\"Deposit of Rs. {amount} successful. New balance: Rs. {self.balance}\")\n",
        "        else:\n",
        "            print(\"Invalid deposit amount.\")\n",
        "\n",
        "    def withdraw(self, amount):\n",
        "        if amount > 0:\n",
        "            if self.balance - amount >= 1000:\n",
        "                self.balance -= amount\n",
        "                print(f\"Withdrawal of Rs. {amount} successful. New balance: Rs. {self.balance}\")\n",
        "            else:\n",
        "                print(\"Insufficient funds. Minimum balance of Rs. 1000 must be maintained.\")\n",
        "        else:\n",
        "            print(\"Invalid withdrawal amount.\")\n",
        "\n",
        "\n",
        "# Example usage\n",
        "account = BankAccount(\"1234567890\", 5000)\n",
        "\n",
        "print(\"Initial balance:\", account.balance)\n",
        "\n",
        "account.deposit(2000)\n",
        "account.withdraw(1500)\n",
        "account.withdraw(3000)\n",
        "\n",
        "print(\"Final balance:\", account.balance)"
      ],
      "metadata": {
        "colab": {
          "base_uri": "https://localhost:8080/"
        },
        "id": "46__JqnMq0Vy",
        "outputId": "5eedcd12-682e-4608-f2d0-3ba1d3e17bd2"
      },
      "execution_count": null,
      "outputs": [
        {
          "output_type": "stream",
          "name": "stdout",
          "text": [
            "Initial balance: 5000\n",
            "Deposit of Rs. 2000 successful. New balance: Rs. 7000\n",
            "Withdrawal of Rs. 1500 successful. New balance: Rs. 5500\n",
            "Withdrawal of Rs. 3000 successful. New balance: Rs. 2500\n",
            "Final balance: 2500\n"
          ]
        }
      ]
    },
    {
      "cell_type": "code",
      "source": [],
      "metadata": {
        "id": "IHBnX3bxq1IP"
      },
      "execution_count": null,
      "outputs": []
    },
    {
      "cell_type": "code",
      "source": [],
      "metadata": {
        "id": "QnfOZa6Uq1To"
      },
      "execution_count": null,
      "outputs": []
    },
    {
      "cell_type": "code",
      "source": [],
      "metadata": {
        "id": "BTkE11iSq1qQ"
      },
      "execution_count": null,
      "outputs": []
    },
    {
      "cell_type": "code",
      "source": [],
      "metadata": {
        "id": "EasdYlJgpkQR"
      },
      "execution_count": null,
      "outputs": []
    },
    {
      "cell_type": "code",
      "source": [],
      "metadata": {
        "id": "Ftmxz5NVpkV3"
      },
      "execution_count": null,
      "outputs": []
    },
    {
      "cell_type": "code",
      "source": [],
      "metadata": {
        "id": "ZHylOU4NpkaT"
      },
      "execution_count": null,
      "outputs": []
    }
  ]
}
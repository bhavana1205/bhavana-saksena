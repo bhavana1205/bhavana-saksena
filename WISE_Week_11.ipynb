{
  "nbformat": 4,
  "nbformat_minor": 0,
  "metadata": {
    "colab": {
      "provenance": [],
      "include_colab_link": true
    },
    "kernelspec": {
      "name": "python3",
      "display_name": "Python 3"
    },
    "language_info": {
      "name": "python"
    }
  },
  "cells": [
    {
      "cell_type": "markdown",
      "metadata": {
        "id": "view-in-github",
        "colab_type": "text"
      },
      "source": [
        "<a href=\"https://colab.research.google.com/github/bhavana1205/bhavana-saksena/blob/main/WISE_Week_11.ipynb\" target=\"_parent\"><img src=\"https://colab.research.google.com/assets/colab-badge.svg\" alt=\"Open In Colab\"/></a>"
      ]
    },
    {
      "cell_type": "code",
      "source": [
        "filename = \"/content/drive/MyDrive/Wise_Week_11/sowpods.txt\""
      ],
      "metadata": {
        "id": "2E_2gJvZzPFw"
      },
      "execution_count": null,
      "outputs": []
    },
    {
      "cell_type": "code",
      "source": [
        "filename1 = \"sowpods.txt\""
      ],
      "metadata": {
        "id": "jJzTrb7v3FDu"
      },
      "execution_count": null,
      "outputs": []
    },
    {
      "cell_type": "code",
      "source": [
        "from google.colab import drive\n",
        "drive.mount('/content/drive')"
      ],
      "metadata": {
        "colab": {
          "base_uri": "https://localhost:8080/"
        },
        "id": "96ZaVsQZMG56",
        "outputId": "bf840df0-ff7f-4dcb-88d3-57ed582a84bf"
      },
      "execution_count": null,
      "outputs": [
        {
          "output_type": "stream",
          "name": "stdout",
          "text": [
            "Mounted at /content/drive\n"
          ]
        }
      ]
    },
    {
      "cell_type": "markdown",
      "source": [
        "## **Problem 01**\n",
        "\n",
        "### **Capital Letter Counter (Files)**\n",
        "\n",
        "Write a function to find the count of capital letters in the\n",
        "specified file."
      ],
      "metadata": {
        "id": "TDVyQiE9L-sZ"
      }
    },
    {
      "cell_type": "code",
      "execution_count": null,
      "metadata": {
        "colab": {
          "base_uri": "https://localhost:8080/"
        },
        "id": "uLosSEQSL5Xm",
        "outputId": "bdbdc233-b2b7-4afc-b6b7-1fd40488ee26"
      },
      "outputs": [
        {
          "output_type": "execute_result",
          "data": {
            "text/plain": [
              "2439263"
            ]
          },
          "metadata": {},
          "execution_count": 5
        }
      ],
      "source": [
        "filename = \"/content/drive/MyDrive/Wise_Week_11/sowpods.txt\"\n",
        "\n",
        "def count_capital_letters(file: str) -> int:\n",
        "    count = 0\n",
        "    with open(file, 'r') as f:\n",
        "        for line in f:\n",
        "            for letter in line:\n",
        "                if letter.isupper():\n",
        "                    count += 1\n",
        "    return count\n",
        "count_capital_letters(filename)"
      ]
    },
    {
      "cell_type": "code",
      "source": [
        "filename = \"sowpods.txt\"\n",
        "\n",
        "def count_capital_letters(file: str) -> int:\n",
        "    count = 0\n",
        "    with open(file, 'r') as f:\n",
        "        for line in f:\n",
        "            for letter in line:\n",
        "                if letter.isupper():\n",
        "                    count += 1\n",
        "    return count\n",
        "\n",
        "count_capital_letters(filename)"
      ],
      "metadata": {
        "colab": {
          "base_uri": "https://localhost:8080/"
        },
        "id": "waQV1GD5Oi5a",
        "outputId": "7b1c599c-10c4-4818-bf3f-1783eec87cc9"
      },
      "execution_count": null,
      "outputs": [
        {
          "output_type": "execute_result",
          "data": {
            "text/plain": [
              "2439263"
            ]
          },
          "metadata": {},
          "execution_count": 5
        }
      ]
    },
    {
      "cell_type": "markdown",
      "source": [
        "## **Problem 02**\n",
        "\n",
        "### **Count words in text file**\n",
        "\n",
        "Find the most frequently occurring words in a text file."
      ],
      "metadata": {
        "id": "_3D_EeRONwCE"
      }
    },
    {
      "cell_type": "code",
      "source": [
        "from typing import Dict\n",
        "text_file = \"/content/drive/MyDrive/Wise_Week_11/WarAndPeace (1).txt\"\n",
        "APOSTROPHE = \"'\"\n",
        "SPACE = \" \"\n",
        "permitted = \"abcdefghijklmnopqrstuvwxyz\" + SPACE + APOSTROPHE\n",
        "words = {}\n",
        "def count_words_in_file(text_file: str) -> str:\n",
        "    for line in open(text_file):\n",
        "        cleaned_line = \"\".join([ch for ch in line.lower() if ch in permitted])\n",
        "        for word in cleaned_line.split():\n",
        "            if word not in words:\n",
        "                words[word] = 0\n",
        "            words[word] += 1\n",
        "    return most_frequent_10(words)\n",
        "\n",
        "def most_frequent_10(words: Dict[str, int]) -> str:\n",
        "    output = []\n",
        "    for word in sorted(words, key = lambda w: words[w], reverse = True)[:10]:\n",
        "        output.append(f\"{word} - {words[word]}\")\n",
        "    return \"\\n\".join(output)\n",
        "print(count_words_in_file(text_file))"
      ],
      "metadata": {
        "colab": {
          "base_uri": "https://localhost:8080/"
        },
        "id": "uzz6fUdiN2Sy",
        "outputId": "49da132e-6f03-4793-9af7-8d82731630d9"
      },
      "execution_count": null,
      "outputs": [
        {
          "output_type": "stream",
          "name": "stdout",
          "text": [
            "the - 34387\n",
            "and - 22078\n",
            "to - 16630\n",
            "of - 14872\n",
            "a - 10458\n",
            "he - 9808\n",
            "in - 8743\n",
            "his - 7967\n",
            "that - 7794\n",
            "was - 7328\n"
          ]
        }
      ]
    },
    {
      "cell_type": "markdown",
      "source": [
        "## **Problem 03**\n",
        "\n",
        "### **Housing Price Update in files**\n",
        "\n",
        "Read the prices of a housing dataset and increase the price by 10 percent and update the csv file."
      ],
      "metadata": {
        "id": "gSfRehwgOBZQ"
      }
    },
    {
      "cell_type": "code",
      "source": [
        "import csv\n",
        "\n",
        "text_file = \"/content/drive/MyDrive/Wise_Week_11/housing.csv\"\n",
        "\n",
        "def read_and_update_file(text_file: str) -> None:\n",
        "    with open(text_file, 'r') as csv_file:\n",
        "        csv_reader = csv.DictReader(csv_file)\n",
        "        fields = csv_reader.fieldnames\n",
        "        modified_lines = []\n",
        "\n",
        "        for line in csv_reader:\n",
        "            line['median_house_value'] = float(line['median_house_value']) + 0.1 * float(line['median_house_value'])\n",
        "            modified_lines.append(line)\n",
        "        print(modified_lines)\n",
        "    with open(text_file, 'w') as csv_file:\n",
        "        writer = csv.DictWriter(csv_file, fields)\n",
        "        writer.writeheader()\n",
        "        writer.writerows(modified_lines)\n",
        "\n",
        "read_and_update_file(text_file)"
      ],
      "metadata": {
        "id": "Xc9MAqokOGNf",
        "colab": {
          "base_uri": "https://localhost:8080/"
        },
        "outputId": "1988e09a-a785-4236-b557-28815b7ea4f1"
      },
      "execution_count": null,
      "outputs": [
        {
          "output_type": "stream",
          "name": "stderr",
          "text": [
            "IOPub data rate exceeded.\n",
            "The notebook server will temporarily stop sending output\n",
            "to the client in order to avoid crashing it.\n",
            "To change this limit, set the config variable\n",
            "`--NotebookApp.iopub_data_rate_limit`.\n",
            "\n",
            "Current values:\n",
            "NotebookApp.iopub_data_rate_limit=1000000.0 (bytes/sec)\n",
            "NotebookApp.rate_limit_window=3.0 (secs)\n",
            "\n"
          ]
        }
      ]
    },
    {
      "cell_type": "markdown",
      "source": [],
      "metadata": {
        "id": "e6qtogeYPEH2"
      }
    },
    {
      "cell_type": "markdown",
      "source": [
        "## **Assignment**\n",
        "\n",
        "### **Anagrams in files**\n",
        "\n",
        "Given a large file, say the quarter-million words sowpods, find all anagrams.\n",
        "\n",
        "**In other words,**\n",
        "\n",
        "**INPUT:** a file with each line having one word\n",
        "\n",
        "**OUTPUT:** each line having many words where the words in a line are anagrams of each other.\n",
        "\n",
        "**Sample input:** cloud ditto plus could spear reaps pulls spare\n",
        "\n",
        "**Output:** cloud could spare spear reaps\n",
        "\n",
        "Start by asking students to write a function that checks if two words are anagrams of each other.\n",
        "\n",
        "* Solution :: sorted(a) == sorted(b)\n",
        "\n",
        "**Typical Errors**\n",
        "\n",
        "* Some students will strike upon the idea of using set(a) == set(b). Ask them to check, 'leap' and 'lapel'. Some will correct this to say len(a) == len(b) and set(a) == set(b). Check 'costs' and 'scoot'!\n",
        "* But comparing all combinations of two strings will lead to more than 35 billion comparisons! So this function cannot be used for the full problem.\n",
        "\n",
        "Example:\n",
        "\n",
        " [['aah', 'aha'],\n",
        "\n",
        " ['aahed', 'ahead']"
      ],
      "metadata": {
        "id": "y8qekle923fN"
      }
    },
    {
      "cell_type": "code",
      "source": [],
      "metadata": {
        "id": "utBVcr7L9P35"
      },
      "execution_count": null,
      "outputs": []
    }
  ]
}
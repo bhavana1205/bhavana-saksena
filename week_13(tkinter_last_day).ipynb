{
  "nbformat": 4,
  "nbformat_minor": 0,
  "metadata": {
    "colab": {
      "provenance": [],
      "authorship_tag": "ABX9TyN+xLiM7VoU7SWQtfgp7GZm",
      "include_colab_link": true
    },
    "kernelspec": {
      "name": "python3",
      "display_name": "Python 3"
    },
    "language_info": {
      "name": "python"
    }
  },
  "cells": [
    {
      "cell_type": "markdown",
      "metadata": {
        "id": "view-in-github",
        "colab_type": "text"
      },
      "source": [
        "<a href=\"https://colab.research.google.com/github/bhavana1205/bhavana-saksena/blob/main/week_13(tkinter_last_day).ipynb\" target=\"_parent\"><img src=\"https://colab.research.google.com/assets/colab-badge.svg\" alt=\"Open In Colab\"/></a>"
      ]
    },
    {
      "cell_type": "code",
      "execution_count": null,
      "metadata": {
        "colab": {
          "base_uri": "https://localhost:8080/",
          "height": 235
        },
        "id": "jAlOJqueXpu7",
        "outputId": "79a60db2-afd2-439f-91f0-4fb35e3ebf92"
      },
      "outputs": [
        {
          "output_type": "error",
          "ename": "NameError",
          "evalue": "ignored",
          "traceback": [
            "\u001b[0;31m---------------------------------------------------------------------------\u001b[0m",
            "\u001b[0;31mNameError\u001b[0m                                 Traceback (most recent call last)",
            "\u001b[0;32m<ipython-input-6-095416e5987c>\u001b[0m in \u001b[0;36m<cell line: 3>\u001b[0;34m()\u001b[0m\n\u001b[1;32m      1\u001b[0m \u001b[0;32mfrom\u001b[0m \u001b[0mtkinter\u001b[0m \u001b[0;32mimport\u001b[0m \u001b[0;34m*\u001b[0m\u001b[0;34m\u001b[0m\u001b[0;34m\u001b[0m\u001b[0m\n\u001b[1;32m      2\u001b[0m \u001b[0;31m#setup the application object by calling the Tk() function\u001b[0m\u001b[0;34m\u001b[0m\u001b[0;34m\u001b[0m\u001b[0m\n\u001b[0;32m----> 3\u001b[0;31m \u001b[0mwindow\u001b[0m \u001b[0;34m=\u001b[0m \u001b[0mtk\u001b[0m\u001b[0;34m(\u001b[0m\u001b[0;34m)\u001b[0m\u001b[0;34m\u001b[0m\u001b[0;34m\u001b[0m\u001b[0m\n\u001b[0m\u001b[1;32m      4\u001b[0m \u001b[0;34m\u001b[0m\u001b[0m\n\u001b[1;32m      5\u001b[0m \u001b[0;31m# add a widgets here\u001b[0m\u001b[0;34m\u001b[0m\u001b[0;34m\u001b[0m\u001b[0m\n",
            "\u001b[0;31mNameError\u001b[0m: name 'tk' is not defined"
          ]
        }
      ],
      "source": [
        "from tkinter import *\n",
        "#setup the application object by calling the Tk() function\n",
        "window = tk()\n",
        "\n",
        "# add a widgets here\n",
        "window.title('hello python')\n",
        "\n",
        "#the geometry() method defines the width,height and coordinates\n",
        "#calculate from the top left corner of screen\n",
        "window.geometry('400x300+1000+10')\n",
        "\n",
        "btn = Butten(window, text =\"this is button widget\", fg = 'blue',bg='red')\n",
        "btn.place(x = 80,y = 100)\n",
        "\n",
        "lbl = Lable(window,text = \"this is label widget\",fg='red',font = (\"helvetical\",16))\n",
        "lbl.place(x=60,y=50)\n",
        "\n",
        "txtfld = Enter(window,bg='black',fg='white',bg=5,show='*')\n",
        "txtfld.place(x=60,y=150)\n",
        "\n",
        "\n",
        "\n",
        "#main loop( tells python to run the tkinter event loop)\n",
        "window.mainloop()"
      ]
    },
    {
      "cell_type": "code",
      "source": [
        "#ct a new project and enter this code\n",
        "\n",
        "from tkinter import*\n",
        "'''combobox this class is defined in the ttk module of tkinterpackage.\n",
        "It populates drop down data from a collection data type,\n",
        "such as a tuple or a list as values parameter.'''\n",
        "from tkinter.ttk import Combobox\n",
        "\n",
        "window = Tk()\n",
        "data = (\"one\",\"two\",\"three\",\"four\")\n",
        "cb = Combobox(window, value = data)\n",
        "cb.place(x=60,y=150)\n",
        "\n",
        "'''unlike combobox,listbox displays entire collection of string items.\n",
        "The user can select one or multiple item.'''\n",
        "lb = Listbox(window,heigth = 5,selectmode = 'multiple')\n",
        "for num in data:\n",
        "  lb.insert(END, num)\n",
        "lb.place(x= 250,y=150)\n",
        "\n",
        "'''radiobutton display a toggle button having an ON/OFF state.\n",
        "There may be more than one button,but only one of them can be ON at a time.'''\n",
        "v0 = IntVar()\n",
        "v0.set(5)\n",
        "\n",
        "r1 = Radiobutton(window, text=\"male\",variable = v0,value = 1)\n",
        "r2 = Radiobutton(window, text='female',variable = v0,value = 5)\n",
        "r3 = Radiobutton(window, text='apple',variable = v0,value = 3)\n",
        "r4 = Radiobutton(window, text=\"orange\",variable = v0,value = 9)\n",
        "\n",
        "r1.place(x=20,y=50)\n",
        "r2.place(x=100,y=50)\n",
        "r3.place(x=180,y=50)\n",
        "r4.place(x=260,y=50)\n",
        "\n",
        "v1 = IntVar()\n",
        "v1.set(1)\n",
        "'''Checkbutton is a toggle button.A rectangular check box appears befor caption.\n",
        "Its ON state is displayed by the tick mark in the box,\n",
        "which disappears when it is cliked t OFF.'''\n",
        "c1 = Checkbutton(window,text = 'cricket', variable = v1)\n",
        "c2 = Checkbutton(window, text=\"tennis\")\n",
        "c1.place(x=100,y=100)\n",
        "c2.place(x=180,y=100)\n",
        "\n",
        "\n",
        "\n",
        "window.title('hello python')\n",
        "window.geometry('400x300+1000+10')\n",
        "window.mainloop()"
      ],
      "metadata": {
        "id": "re2v_JYgbO8O"
      },
      "execution_count": null,
      "outputs": []
    },
    {
      "cell_type": "code",
      "source": [
        "#PROJECT 3\n",
        "from tkinter import*\n",
        "class MyWindow:\n",
        "  def __intit__(self,win):\n",
        "    self.lbl1 = Label(win,text = 'first number')\n",
        "    self.lbl2 = Label(win,text='second number')\n",
        "    self.lbl3 = Label(win,text='result')\n",
        "    self.t1 = Entry(bd = 3)\n",
        "    self.t2 = Entry()\n",
        "    self.t3 = Entry()\n",
        "    self.btn1 = Button(win,text = 'Add')\n",
        "    self.btn2 = Button(win,text ='subtract')\n",
        "    self.lbl1.place(x=100,y=50)\n",
        "    self.t1.place(x=200,y=50)\n",
        "    self.lbl2.place(x=100,y=100)\n",
        "    self.t2.place(x=200,y=100)\n",
        "    self.b1=Button(win,text='Add',command = self.add)\n",
        "    self.b2=Button(win,text='Subtract')\n",
        "    self.b2.bind('<Button-1>',self.sub)\n",
        "    self.b1.place(x=100,y=150)\n",
        "    self.b2.place(x=200,y=150)\n",
        "    self.lbl3.place(x=100,y=200)\n",
        "  def add(self):\n",
        "    self.t3.delete(0. 'end')\n",
        "    num1=int(self.t1.get())\n",
        "    num2=int(self.t2.get())\n",
        "    result=num1+num2\n",
        "    self.t3.insert(END, str(result))\n",
        "  def sub(self,event):\n",
        "    self.t3.delete(0, 'end')\n",
        "    num1 = int(self.t1.get())\n",
        "    num2 = int(self.t2.get())\n",
        "    result=num1-num2\n",
        "    self.t3.insert(END, str(result))\n",
        "\n",
        "window = Tk()\n",
        "mywin = MyWindow(window)\n",
        "window.title('hello python')\n",
        "window.geometry('400x300+1000+10')\n",
        "window.mainloop()"
      ],
      "metadata": {
        "id": "BA3WfbnOscAO"
      },
      "execution_count": null,
      "outputs": []
    },
    {
      "cell_type": "code",
      "source": [],
      "metadata": {
        "id": "fNmZdeuNxvgl"
      },
      "execution_count": null,
      "outputs": []
    }
  ]
}